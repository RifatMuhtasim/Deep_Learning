{
  "nbformat": 4,
  "nbformat_minor": 0,
  "metadata": {
    "colab": {
      "provenance": [],
      "authorship_tag": "ABX9TyOzbYG6C4xZBT3gd4/4Am14",
      "include_colab_link": true
    },
    "kernelspec": {
      "name": "python3",
      "display_name": "Python 3"
    },
    "language_info": {
      "name": "python"
    }
  },
  "cells": [
    {
      "cell_type": "markdown",
      "metadata": {
        "id": "view-in-github",
        "colab_type": "text"
      },
      "source": [
        "<a href=\"https://colab.research.google.com/github/RifatMuhtasim/Deep_Learning/blob/main/Learn/7.Neural_Network_For_Handwritten_Digits_Classification.ipynb\" target=\"_parent\"><img src=\"https://colab.research.google.com/assets/colab-badge.svg\" alt=\"Open In Colab\"/></a>"
      ]
    },
    {
      "cell_type": "code",
      "execution_count": 78,
      "metadata": {
        "id": "X29uNDTr6EQg"
      },
      "outputs": [],
      "source": [
        "import pandas as pd\n",
        "import numpy as np\n",
        "import matplotlib.pyplot as plt\n",
        "import seaborn as sns\n",
        "\n",
        "import tensorflow as tf\n",
        "from tensorflow import keras"
      ]
    },
    {
      "cell_type": "code",
      "source": [
        "# Load dataset\n",
        "(X_train, y_train), (X_test, y_test) = keras.datasets.mnist.load_data()\n",
        "\n",
        "print(\"X_train length: \", len(X_train))\n",
        "print(\"X_test lenght:\", len(X_test))"
      ],
      "metadata": {
        "id": "2ms3I3iq6Sj_",
        "colab": {
          "base_uri": "https://localhost:8080/"
        },
        "outputId": "8b4b5a17-6d0d-4be5-980c-bc6b338ec31b"
      },
      "execution_count": 63,
      "outputs": [
        {
          "output_type": "stream",
          "name": "stdout",
          "text": [
            "X_train length:  60000\n",
            "X_test lenght: 10000\n"
          ]
        }
      ]
    },
    {
      "cell_type": "code",
      "source": [
        "a = 45\n",
        "\n",
        "print(\"Y Value:\", y_train[a])\n",
        "print(\"X shape:\", X_train[a].shape)\n",
        "display(\"X Value:\", X_train[a][:10])\n",
        "plt.matshow(X_train[a])"
      ],
      "metadata": {
        "colab": {
          "base_uri": "https://localhost:8080/",
          "height": 1000
        },
        "id": "vZx22gPqvPmh",
        "outputId": "2e83ee76-c13f-4187-beab-ea867bc0fbdc"
      },
      "execution_count": 64,
      "outputs": [
        {
          "output_type": "stream",
          "name": "stdout",
          "text": [
            "Y Value: 9\n",
            "X shape: (28, 28)\n"
          ]
        },
        {
          "output_type": "display_data",
          "data": {
            "text/plain": [
              "'X Value:'"
            ],
            "application/vnd.google.colaboratory.intrinsic+json": {
              "type": "string"
            }
          },
          "metadata": {}
        },
        {
          "output_type": "display_data",
          "data": {
            "text/plain": [
              "array([[  0,   0,   0,   0,   0,   0,   0,   0,   0,   0,   0,   0,   0,\n",
              "          0,   0,   0,   0,   0,   0,   0,   0,   0,   0,   0,   0,   0,\n",
              "          0,   0],\n",
              "       [  0,   0,   0,   0,   0,   0,   0,   0,   0,   0,   0,   0,   0,\n",
              "          0,   0,   0,   0,   0,   0,   0,   0,   0,   0,   0,   0,   0,\n",
              "          0,   0],\n",
              "       [  0,   0,   0,   0,   0,   0,   0,   0,   0,   0,   0,   0,   0,\n",
              "          0,   0,   0,   0,   0,   0,   0,   0,   0,   0,   0,   0,   0,\n",
              "          0,   0],\n",
              "       [  0,   0,   0,   0,   0,   0,   0,   0,   0,   0,   0,   0,   0,\n",
              "          0,   0,   0,   0,   0,   0,   0,   0,   0,   0,   0,   0,   0,\n",
              "          0,   0],\n",
              "       [  0,   0,   0,   0,   0,   0,   0,   0,   0,   0,   0,   0,   0,\n",
              "          0,   0,   0,   0,   0,   0,   0,   0,   0,   0,   0,   0,   0,\n",
              "          0,   0],\n",
              "       [  0,   0,   0,   0,   0,   0,   0,   0,   0,   0,   0,   0,   0,\n",
              "          0,   0,   0,   0,   0,   0,   0,   0,   0,   0,   0,   0,   0,\n",
              "          0,   0],\n",
              "       [  0,   0,   0,   0,   0,   0,   0,   0,   0,   0,   0,   0,   0,\n",
              "          0,   0,   0,   0,   0,   0,   0,   0,   0,   0,   0,   0,   0,\n",
              "          0,   0],\n",
              "       [  0,   0,   0,   0,   0,   0,   0,   0,   0,   0,   0,   0,  11,\n",
              "        185, 255, 253, 253, 230, 132, 132,  31,   0,   0,   0,   0,   0,\n",
              "          0,   0],\n",
              "       [  0,   0,   0,   0,   0,   0,   0,   0,   0,   0,   9,  71, 242,\n",
              "        252, 252, 228, 231, 252, 252, 252, 167,   0,   0,   0,   0,   0,\n",
              "          0,   0],\n",
              "       [  0,   0,   0,   0,   0,   0,   0,   0,   0,  28, 166, 252, 252,\n",
              "        235,  92,   0,  14, 142, 252, 252, 150,   0,   0,   0,   0,   0,\n",
              "          0,   0]], dtype=uint8)"
            ]
          },
          "metadata": {}
        },
        {
          "output_type": "execute_result",
          "data": {
            "text/plain": [
              "<matplotlib.image.AxesImage at 0x7c5d1ca19e10>"
            ]
          },
          "metadata": {},
          "execution_count": 64
        },
        {
          "output_type": "display_data",
          "data": {
            "text/plain": [
              "<Figure size 480x480 with 1 Axes>"
            ],
            "image/png": "[encoded data removed]"
          },
          "metadata": {}
        }
      ]
    },
    {
      "cell_type": "code",
      "source": [
        "X_train = X_train /255\n",
        "X_test = X_test / 255"
      ],
      "metadata": {
        "id": "E25TTZ6x3GZG"
      },
      "execution_count": 65,
      "outputs": []
    },
    {
      "cell_type": "code",
      "source": [
        "X_train_flattend = X_train.reshape(len(X_train), 28*28)\n",
        "X_test_flattend = X_test.reshape(len(X_test), 28*28)\n",
        "\n",
        "X_train_flattend.shape"
      ],
      "metadata": {
        "id": "vyleHVU_6dcU",
        "colab": {
          "base_uri": "https://localhost:8080/"
        },
        "outputId": "665db1c4-6a47-4355-b8ee-0a4fe0d20c4e"
      },
      "execution_count": 66,
      "outputs": [
        {
          "output_type": "execute_result",
          "data": {
            "text/plain": [
              "(60000, 784)"
            ]
          },
          "metadata": {},
          "execution_count": 66
        }
      ]
    },
    {
      "cell_type": "markdown",
      "source": [
        "# Building Model <a id=\"model\"></a>"
      ],
      "metadata": {
        "id": "FNh3JADR00qs"
      }
    },
    {
      "cell_type": "code",
      "source": [
        "model = keras.Sequential([\n",
        "    keras.layers.Dense(10, input_shape = (784, ), activation=\"sigmoid\")\n",
        "])\n",
        "\n",
        "model.compile(optimizer=\"adam\", loss=\"sparse_categorical_crossentropy\", metrics=[\"accuracy\"])\n",
        "\n",
        "model.fit(X_train_flattend, y_train, epochs=5)"
      ],
      "metadata": {
        "id": "B3WKt2O-6dN7",
        "colab": {
          "base_uri": "https://localhost:8080/"
        },
        "outputId": "84f0f4ef-c9f4-469f-d9ae-b3bb293c84c2"
      },
      "execution_count": 67,
      "outputs": [
        {
          "output_type": "stream",
          "name": "stdout",
          "text": [
            "Epoch 1/5\n",
            "1875/1875 [==============================] - 4s 2ms/step - loss: 0.4660 - accuracy: 0.8784\n",
            "Epoch 2/5\n",
            "1875/1875 [==============================] - 3s 2ms/step - loss: 0.3035 - accuracy: 0.9154\n",
            "Epoch 3/5\n",
            "1875/1875 [==============================] - 4s 2ms/step - loss: 0.2836 - accuracy: 0.9204\n",
            "Epoch 4/5\n",
            "1875/1875 [==============================] - 4s 2ms/step - loss: 0.2727 - accuracy: 0.9237\n",
            "Epoch 5/5\n",
            "1875/1875 [==============================] - 3s 2ms/step - loss: 0.2666 - accuracy: 0.9256\n"
          ]
        },
        {
          "output_type": "execute_result",
          "data": {
            "text/plain": [
              "<keras.src.callbacks.History at 0x7c5d1e24c6d0>"
            ]
          },
          "metadata": {},
          "execution_count": 67
        }
      ]
    },
    {
      "cell_type": "code",
      "source": [
        "# Evaluate this model\n",
        "\n",
        "model.evaluate(X_test_flattend, y_test)"
      ],
      "metadata": {
        "id": "nlzwL4HZ6dLM",
        "colab": {
          "base_uri": "https://localhost:8080/"
        },
        "outputId": "9a360f58-e47b-4f6a-a7d6-19b5a12b56d4"
      },
      "execution_count": 68,
      "outputs": [
        {
          "output_type": "stream",
          "name": "stdout",
          "text": [
            "313/313 [==============================] - 1s 2ms/step - loss: 0.2661 - accuracy: 0.9274\n"
          ]
        },
        {
          "output_type": "execute_result",
          "data": {
            "text/plain": [
              "[0.2661457657814026, 0.9273999929428101]"
            ]
          },
          "metadata": {},
          "execution_count": 68
        }
      ]
    },
    {
      "cell_type": "markdown",
      "source": [
        "## Predict"
      ],
      "metadata": {
        "id": "mfeIXAWr5gY2"
      }
    },
    {
      "cell_type": "code",
      "source": [
        "y_pred = model.predict(X_test_flattend)"
      ],
      "metadata": {
        "id": "PG3SF_lJ6dH0",
        "colab": {
          "base_uri": "https://localhost:8080/"
        },
        "outputId": "cb0ecf98-0c22-4e8c-f0be-9e3d10c3a8b1"
      },
      "execution_count": 69,
      "outputs": [
        {
          "output_type": "stream",
          "name": "stdout",
          "text": [
            "313/313 [==============================] - 0s 1ms/step\n"
          ]
        }
      ]
    },
    {
      "cell_type": "code",
      "source": [
        "b = 144\n",
        "\n",
        "print(\"Predicted value:\", np.argmax(y_pred[b]))\n",
        "plt.matshow(X_test[b])\n",
        "plt.show()"
      ],
      "metadata": {
        "id": "CRufoX_S6dFj",
        "colab": {
          "base_uri": "https://localhost:8080/",
          "height": 454
        },
        "outputId": "c99c09c1-e52e-4a27-8d09-2fd28b9236e7"
      },
      "execution_count": 73,
      "outputs": [
        {
          "output_type": "stream",
          "name": "stdout",
          "text": [
            "Predicted value: 7\n"
          ]
        },
        {
          "output_type": "display_data",
          "data": {
            "text/plain": [
              "<Figure size 480x480 with 1 Axes>"
            ],
            "image/png": "[encoded data removed]"
          },
          "metadata": {}
        }
      ]
    },
    {
      "cell_type": "code",
      "source": [
        "y_pred_labels = [np.argmax(i) for i in y_pred]"
      ],
      "metadata": {
        "id": "tTwH3Id88jWM"
      },
      "execution_count": 75,
      "outputs": []
    },
    {
      "cell_type": "code",
      "source": [
        "# Confusion Matrix\n",
        "\n",
        "cm = tf.math.confusion_matrix(labels = y_test, predictions = y_pred_labels)\n",
        "cm"
      ],
      "metadata": {
        "id": "Vudb6T8B6dAU",
        "colab": {
          "base_uri": "https://localhost:8080/"
        },
        "outputId": "03d5553c-e23e-422d-c462-d7864e189226"
      },
      "execution_count": 76,
      "outputs": [
        {
          "output_type": "execute_result",
          "data": {
            "text/plain": [
              "<tf.Tensor: shape=(10, 10), dtype=int32, numpy=\n",
              "array([[ 957,    0,    1,    2,    0,    5,   12,    2,    1,    0],\n",
              "       [   0, 1114,    3,    2,    0,    1,    4,    2,    9,    0],\n",
              "       [   3,    9,  925,   17,    8,    4,   14,   10,   38,    4],\n",
              "       [   1,    0,   18,  925,    0,   19,    4,   13,   24,    6],\n",
              "       [   1,    1,    2,    1,  917,    0,   13,    5,   10,   32],\n",
              "       [   7,    3,    2,   33,   10,  770,   21,    7,   33,    6],\n",
              "       [   7,    3,    4,    1,    7,    7,  924,    2,    3,    0],\n",
              "       [   1,    5,   22,    4,    7,    0,    0,  956,    3,   30],\n",
              "       [   5,    9,    6,   18,    9,   23,   10,   13,  875,    6],\n",
              "       [   9,    7,    1,    9,   30,    7,    1,   26,    8,  911]],\n",
              "      dtype=int32)>"
            ]
          },
          "metadata": {},
          "execution_count": 76
        }
      ]
    },
    {
      "cell_type": "code",
      "source": [
        "sns.heatmap(cm, annot=True, fmt=\"d\")\n",
        "plt.plot()"
      ],
      "metadata": {
        "id": "AXneRmK06h8C",
        "colab": {
          "base_uri": "https://localhost:8080/",
          "height": 447
        },
        "outputId": "50f76455-963f-4904-fc90-f58419ee5484"
      },
      "execution_count": 82,
      "outputs": [
        {
          "output_type": "execute_result",
          "data": {
            "text/plain": [
              "[]"
            ]
          },
          "metadata": {},
          "execution_count": 82
        },
        {
          "output_type": "display_data",
          "data": {
            "text/plain": [
              "<Figure size 640x480 with 2 Axes>"
            ],
            "image/png": "[encoded data removed]"
          },
          "metadata": {}
        }
      ]
    },
    {
      "cell_type": "markdown",
      "source": [
        "# Add Hidden Neural Layers"
      ],
      "metadata": {
        "id": "u4xhenar9gV4"
      }
    },
    {
      "cell_type": "code",
      "source": [
        "model2 = keras.Sequential([\n",
        "    keras.layers.Dense(100, input_shape = (784, ), activation=\"relu\"), # one added\n",
        "    keras.layers.Dense(10, activation=\"sigmoid\")\n",
        "])\n",
        "\n",
        "model2.compile(optimizer=\"adam\", loss=\"sparse_categorical_crossentropy\", metrics=[\"accuracy\"])\n",
        "\n",
        "model2.fit(X_train_flattend, y_train, epochs=5)"
      ],
      "metadata": {
        "colab": {
          "base_uri": "https://localhost:8080/"
        },
        "id": "zLvzPr8h9Hb7",
        "outputId": "e0ca107b-d496-4bc7-db75-2dfa94642806"
      },
      "execution_count": 88,
      "outputs": [
        {
          "output_type": "stream",
          "name": "stdout",
          "text": [
            "Epoch 1/5\n",
            "1875/1875 [==============================] - 6s 3ms/step - loss: 0.2650 - accuracy: 0.9252\n",
            "Epoch 2/5\n",
            "1875/1875 [==============================] - 12s 6ms/step - loss: 0.1223 - accuracy: 0.9634\n",
            "Epoch 3/5\n",
            "1875/1875 [==============================] - 9s 5ms/step - loss: 0.0866 - accuracy: 0.9743\n",
            "Epoch 4/5\n",
            "1875/1875 [==============================] - 5s 3ms/step - loss: 0.0659 - accuracy: 0.9800\n",
            "Epoch 5/5\n",
            "1875/1875 [==============================] - 6s 3ms/step - loss: 0.0529 - accuracy: 0.9845\n"
          ]
        },
        {
          "output_type": "execute_result",
          "data": {
            "text/plain": [
              "<keras.src.callbacks.History at 0x7c5d160c65f0>"
            ]
          },
          "metadata": {},
          "execution_count": 88
        }
      ]
    },
    {
      "cell_type": "code",
      "source": [
        "# Evaluate this model\n",
        "\n",
        "model2.evaluate(X_test_flattend, y_test)"
      ],
      "metadata": {
        "colab": {
          "base_uri": "https://localhost:8080/"
        },
        "id": "IJT9tNeb-j_j",
        "outputId": "c2939945-d26b-49e3-d6e3-c97c9b932600"
      },
      "execution_count": 89,
      "outputs": [
        {
          "output_type": "stream",
          "name": "stdout",
          "text": [
            "313/313 [==============================] - 1s 2ms/step - loss: 0.0706 - accuracy: 0.9793\n"
          ]
        },
        {
          "output_type": "execute_result",
          "data": {
            "text/plain": [
              "[0.07064544409513474, 0.9793000221252441]"
            ]
          },
          "metadata": {},
          "execution_count": 89
        }
      ]
    },
    {
      "cell_type": "code",
      "source": [
        "y_pred2 = model2.predict(X_test_flattend)"
      ],
      "metadata": {
        "colab": {
          "base_uri": "https://localhost:8080/"
        },
        "id": "moHKQdF1-2VK",
        "outputId": "9ff877de-0d6a-4397-b20b-26483a9bdfa7"
      },
      "execution_count": 90,
      "outputs": [
        {
          "output_type": "stream",
          "name": "stdout",
          "text": [
            "313/313 [==============================] - 1s 2ms/step\n"
          ]
        }
      ]
    },
    {
      "cell_type": "code",
      "source": [
        "y_pred2_labels = [np.argmax(i) for i in y_pred2]"
      ],
      "metadata": {
        "id": "dSu1LnpC_EWY"
      },
      "execution_count": 91,
      "outputs": []
    },
    {
      "cell_type": "code",
      "source": [
        "# Confusion Matrix\n",
        "\n",
        "cm2 = tf.math.confusion_matrix(labels = y_test, predictions = y_pred2_labels)\n",
        "sns.heatmap(cm2, annot=True, fmt=\"d\")\n",
        "plt.show()"
      ],
      "metadata": {
        "colab": {
          "base_uri": "https://localhost:8080/",
          "height": 430
        },
        "id": "1vfXQIRi-lrY",
        "outputId": "93e02784-8580-47af-8682-e645ba3dec23"
      },
      "execution_count": 92,
      "outputs": [
        {
          "output_type": "display_data",
          "data": {
            "text/plain": [
              "<Figure size 640x480 with 2 Axes>"
            ],
            "image/png": "[encoded data removed]"
          },
          "metadata": {}
        }
      ]
    },
    {
      "cell_type": "markdown",
      "source": [
        "# Without use X_train_flattend"
      ],
      "metadata": {
        "id": "v5QPftDI_7dS"
      }
    },
    {
      "cell_type": "code",
      "source": [
        "model3 = keras.Sequential([\n",
        "    keras.layers.Flatten(input_shape=(28, 28)), # For flattend variable\n",
        "    keras.layers.Dense(100, activation=\"relu\"), # one added\n",
        "    keras.layers.Dense(10, activation=\"sigmoid\")\n",
        "])\n",
        "\n",
        "model3.compile(optimizer=\"adam\", loss=\"sparse_categorical_crossentropy\", metrics=[\"accuracy\"])\n",
        "\n",
        "model3.fit(X_train, y_train, epochs=5)"
      ],
      "metadata": {
        "colab": {
          "base_uri": "https://localhost:8080/"
        },
        "id": "yqmeBmLe__Lt",
        "outputId": "3afa7e3c-879e-449b-a738-8e2607fe785a"
      },
      "execution_count": 95,
      "outputs": [
        {
          "output_type": "stream",
          "name": "stdout",
          "text": [
            "Epoch 1/5\n",
            "1875/1875 [==============================] - 7s 3ms/step - loss: 0.2736 - accuracy: 0.9232\n",
            "Epoch 2/5\n",
            "1875/1875 [==============================] - 5s 3ms/step - loss: 0.1278 - accuracy: 0.9622\n",
            "Epoch 3/5\n",
            "1875/1875 [==============================] - 5s 3ms/step - loss: 0.0883 - accuracy: 0.9742\n",
            "Epoch 4/5\n",
            "1875/1875 [==============================] - 6s 3ms/step - loss: 0.0687 - accuracy: 0.9793\n",
            "Epoch 5/5\n",
            "1875/1875 [==============================] - 5s 3ms/step - loss: 0.0543 - accuracy: 0.9836\n"
          ]
        },
        {
          "output_type": "execute_result",
          "data": {
            "text/plain": [
              "<keras.src.callbacks.History at 0x7c5d1e1e4070>"
            ]
          },
          "metadata": {},
          "execution_count": 95
        }
      ]
    }
  ]
}