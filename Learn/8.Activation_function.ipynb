{
  "nbformat": 4,
  "nbformat_minor": 0,
  "metadata": {
    "colab": {
      "provenance": [],
      "authorship_tag": "ABX9TyMsLsXAbWfQiIkCGKo6isZq",
      "include_colab_link": true
    },
    "kernelspec": {
      "name": "python3",
      "display_name": "Python 3"
    },
    "language_info": {
      "name": "python"
    }
  },
  "cells": [
    {
      "cell_type": "markdown",
      "metadata": {
        "id": "view-in-github",
        "colab_type": "text"
      },
      "source": [
        "<a href=\"https://colab.research.google.com/github/RifatMuhtasim/Deep_Learning/blob/main/Learn/8.Activation_function.ipynb\" target=\"_parent\"><img src=\"https://colab.research.google.com/assets/colab-badge.svg\" alt=\"Open In Colab\"/></a>"
      ]
    },
    {
      "cell_type": "markdown",
      "source": [
        "# <center>  Activation Function </center>"
      ],
      "metadata": {
        "id": "u3g1-U_iYXWW"
      }
    },
    {
      "cell_type": "code",
      "source": [
        "import math"
      ],
      "metadata": {
        "id": "ZAuXQlC3Vw0W"
      },
      "execution_count": 1,
      "outputs": []
    },
    {
      "cell_type": "markdown",
      "source": [
        "## Sigmoid Function"
      ],
      "metadata": {
        "id": "ELoxob8AZ7Ax"
      }
    },
    {
      "cell_type": "markdown",
      "source": [
        "\n",
        "Formula: $z = \\frac{1}{1+e^{-x}}$\n",
        "\n",
        "<img style=\"width: 50px; height: 100px\" src=\"https://upload.wikimedia.org/wikipedia/commons/thumb/8/88/Logistic-curve.svg/1200px-Logistic-curve.svg.png\" />\n",
        "\n",
        "- Range (0, 1)\n",
        "\n"
      ],
      "metadata": {
        "id": "263LWSs9Vesy"
      }
    },
    {
      "cell_type": "code",
      "execution_count": 2,
      "metadata": {
        "id": "SPgX1JkaVVx3"
      },
      "outputs": [],
      "source": [
        "def sigmoid(x):\n",
        "  result = 1 / (1 + math.exp(-x))\n",
        "  return result"
      ]
    },
    {
      "cell_type": "code",
      "source": [
        "sigmoid(1)"
      ],
      "metadata": {
        "colab": {
          "base_uri": "https://localhost:8080/"
        },
        "id": "8UQKeFNGWIAL",
        "outputId": "a35e2dfd-8786-435a-e3ee-2cb7c5c74e4e"
      },
      "execution_count": 3,
      "outputs": [
        {
          "output_type": "execute_result",
          "data": {
            "text/plain": [
              "0.7310585786300049"
            ]
          },
          "metadata": {},
          "execution_count": 3
        }
      ]
    },
    {
      "cell_type": "code",
      "source": [
        "sigmoid(0.5)"
      ],
      "metadata": {
        "colab": {
          "base_uri": "https://localhost:8080/"
        },
        "id": "Dlm-hXbxWQ91",
        "outputId": "1ee4448a-3c81-42a7-9f5f-abac44de053e"
      },
      "execution_count": 4,
      "outputs": [
        {
          "output_type": "execute_result",
          "data": {
            "text/plain": [
              "0.6224593312018546"
            ]
          },
          "metadata": {},
          "execution_count": 4
        }
      ]
    },
    {
      "cell_type": "markdown",
      "source": [
        "## Tanh Function"
      ],
      "metadata": {
        "id": "bhCG6sp7WcAP"
      }
    },
    {
      "cell_type": "markdown",
      "source": [
        "Formula: $ tanh(z) = \\frac{e^z - e^{-z}}{e^z + e^{-z}} $\n",
        "\n",
        "![link text](https://production-media.paperswithcode.com/methods/Screen_Shot_2020-05-27_at_4.23.22_PM_dcuMBJl.png)\n",
        "\n",
        "- Range: -1 to +1"
      ],
      "metadata": {
        "id": "VFks6tMJYuXW"
      }
    },
    {
      "cell_type": "code",
      "source": [
        "def tanh(x):\n",
        "  result = (math.exp(x) - math.exp(-x)) / (math.exp(x) + math.exp(-x))\n",
        "  return result"
      ],
      "metadata": {
        "id": "K6D3BK3pYncN"
      },
      "execution_count": 5,
      "outputs": []
    },
    {
      "cell_type": "code",
      "source": [
        "tanh(0.6)"
      ],
      "metadata": {
        "colab": {
          "base_uri": "https://localhost:8080/"
        },
        "id": "GvZRtvhuZuKp",
        "outputId": "f99efc7a-ba87-4b69-e7bc-6cdc332f1f22"
      },
      "execution_count": 6,
      "outputs": [
        {
          "output_type": "execute_result",
          "data": {
            "text/plain": [
              "0.5370495669980354"
            ]
          },
          "metadata": {},
          "execution_count": 6
        }
      ]
    },
    {
      "cell_type": "code",
      "source": [
        "tanh(-0.75)"
      ],
      "metadata": {
        "colab": {
          "base_uri": "https://localhost:8080/"
        },
        "id": "EQgt3sMkZy9_",
        "outputId": "8584cbd7-b7bb-4d84-d857-0a1ca3603f76"
      },
      "execution_count": 7,
      "outputs": [
        {
          "output_type": "execute_result",
          "data": {
            "text/plain": [
              "-0.6351489523872873"
            ]
          },
          "metadata": {},
          "execution_count": 7
        }
      ]
    },
    {
      "cell_type": "markdown",
      "source": [
        "## ReLU Function"
      ],
      "metadata": {
        "id": "5uzhx3NnWibg"
      }
    },
    {
      "cell_type": "markdown",
      "source": [
        "formula: max(0, z)\n",
        "\n",
        "![Relu ](https://miro.medium.com/v2/resize:fit:720/format:webp/1*3JUMOqugWKB2SDra6x6v0A.png)\n",
        "\n",
        "- Range: Below 0 are 0"
      ],
      "metadata": {
        "id": "2-cpZ0xkaL1p"
      }
    },
    {
      "cell_type": "code",
      "source": [
        "def ReLU(x):\n",
        "  result = max(0, x)\n",
        "  return result"
      ],
      "metadata": {
        "id": "wWU_-KUdYnId"
      },
      "execution_count": 8,
      "outputs": []
    },
    {
      "cell_type": "code",
      "source": [
        "ReLU(2)"
      ],
      "metadata": {
        "colab": {
          "base_uri": "https://localhost:8080/"
        },
        "id": "yVHORmtZaiU7",
        "outputId": "b9640afc-abe4-43ab-da2b-68d920b7eff6"
      },
      "execution_count": 9,
      "outputs": [
        {
          "output_type": "execute_result",
          "data": {
            "text/plain": [
              "2"
            ]
          },
          "metadata": {},
          "execution_count": 9
        }
      ]
    },
    {
      "cell_type": "code",
      "source": [
        "ReLU(-3)"
      ],
      "metadata": {
        "colab": {
          "base_uri": "https://localhost:8080/"
        },
        "id": "2fVqV0mtamPT",
        "outputId": "467fea8a-1e87-415e-87a6-0fef0198eaf3"
      },
      "execution_count": 10,
      "outputs": [
        {
          "output_type": "execute_result",
          "data": {
            "text/plain": [
              "0"
            ]
          },
          "metadata": {},
          "execution_count": 10
        }
      ]
    },
    {
      "cell_type": "markdown",
      "source": [
        "## Leaky ReLU Function"
      ],
      "metadata": {
        "id": "4P6_c6QcWqV6"
      }
    },
    {
      "cell_type": "markdown",
      "source": [
        "Formula: $ max(0.1 * z, z) $\n",
        "\n",
        "![Image](https://production-media.paperswithcode.com/methods/Screen_Shot_2020-05-25_at_3.09.45_PM.png)"
      ],
      "metadata": {
        "id": "LL7QxLKHax28"
      }
    },
    {
      "cell_type": "code",
      "source": [
        "def leky_relu(x):\n",
        "  result = max(0.1*x, x)\n",
        "  return result"
      ],
      "metadata": {
        "id": "U30OLxsYaxIt"
      },
      "execution_count": 11,
      "outputs": []
    },
    {
      "cell_type": "code",
      "source": [
        "leky_relu(2)"
      ],
      "metadata": {
        "colab": {
          "base_uri": "https://localhost:8080/"
        },
        "id": "gUv5aK6XWbjP",
        "outputId": "a505ffab-13de-4ad7-cc87-f3b23ae809db"
      },
      "execution_count": 12,
      "outputs": [
        {
          "output_type": "execute_result",
          "data": {
            "text/plain": [
              "2"
            ]
          },
          "metadata": {},
          "execution_count": 12
        }
      ]
    },
    {
      "cell_type": "code",
      "source": [
        "leky_relu(-4)"
      ],
      "metadata": {
        "colab": {
          "base_uri": "https://localhost:8080/"
        },
        "id": "weaZXctJbR2K",
        "outputId": "e07d635b-ab5d-4377-b7c4-9ac55f116910"
      },
      "execution_count": 13,
      "outputs": [
        {
          "output_type": "execute_result",
          "data": {
            "text/plain": [
              "-0.4"
            ]
          },
          "metadata": {},
          "execution_count": 13
        }
      ]
    }
  ]
}