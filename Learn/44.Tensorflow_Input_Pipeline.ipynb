{
  "nbformat": 4,
  "nbformat_minor": 0,
  "metadata": {
    "colab": {
      "provenance": []
    },
    "kernelspec": {
      "name": "python3",
      "display_name": "Python 3"
    },
    "language_info": {
      "name": "python"
    }
  },
  "cells": [
    {
      "cell_type": "code",
      "execution_count": 39,
      "metadata": {
        "id": "HNLqeqKKkc6s"
      },
      "outputs": [],
      "source": [
        "import pandas as pd\n",
        "import numpy as np\n",
        "import matplotlib.pyplot as plt\n",
        "import tensorflow as tf\n",
        "import os"
      ]
    },
    {
      "cell_type": "markdown",
      "source": [
        "# Sales Datasets"
      ],
      "metadata": {
        "id": "iZM07I6CaeAP"
      }
    },
    {
      "cell_type": "code",
      "source": [
        "daily_sales_numbers = [21, 22, -108, 31, -1, 32, 34,31]\n",
        "tf_dataset = tf.data.Dataset.from_tensor_slices(daily_sales_numbers)\n",
        "tf_dataset"
      ],
      "metadata": {
        "id": "FuaEqHrNpW_G",
        "colab": {
          "base_uri": "https://localhost:8080/"
        },
        "outputId": "e2e459e6-7919-4f38-9356-bcfff86675f4"
      },
      "execution_count": 40,
      "outputs": [
        {
          "output_type": "execute_result",
          "data": {
            "text/plain": [
              "<_TensorSliceDataset element_spec=TensorSpec(shape=(), dtype=tf.int32, name=None)>"
            ]
          },
          "metadata": {},
          "execution_count": 40
        }
      ]
    },
    {
      "cell_type": "code",
      "source": [
        "# View the tensorflow datasets\n",
        "for sales in tf_dataset:\n",
        "  print(sales.numpy())"
      ],
      "metadata": {
        "colab": {
          "base_uri": "https://localhost:8080/"
        },
        "id": "qlPz0LttPsGG",
        "outputId": "fb244b36-9dc4-4b82-89a0-79926a8b1ae1"
      },
      "execution_count": 41,
      "outputs": [
        {
          "output_type": "stream",
          "name": "stdout",
          "text": [
            "21\n",
            "22\n",
            "-108\n",
            "31\n",
            "-1\n",
            "32\n",
            "34\n",
            "31\n"
          ]
        }
      ]
    },
    {
      "cell_type": "code",
      "source": [
        "for sales in tf_dataset.take(3):\n",
        "  print(sales.numpy())"
      ],
      "metadata": {
        "colab": {
          "base_uri": "https://localhost:8080/"
        },
        "id": "5CMvSh7MQMG_",
        "outputId": "55abc996-b988-431b-d9a9-bb802f7ae481"
      },
      "execution_count": 42,
      "outputs": [
        {
          "output_type": "stream",
          "name": "stdout",
          "text": [
            "21\n",
            "22\n",
            "-108\n"
          ]
        }
      ]
    },
    {
      "cell_type": "code",
      "source": [
        "# Remove the negative value\n",
        "tf_dataset = tf_dataset.filter(lambda x: x>0)\n",
        "for sales in tf_dataset.take(3):\n",
        "  print(sales.numpy())"
      ],
      "metadata": {
        "colab": {
          "base_uri": "https://localhost:8080/"
        },
        "id": "XgWMaY8DQ1kr",
        "outputId": "da2ae614-e389-4741-d584-ab9e1f573329"
      },
      "execution_count": 43,
      "outputs": [
        {
          "output_type": "stream",
          "name": "stdout",
          "text": [
            "21\n",
            "22\n",
            "31\n"
          ]
        }
      ]
    },
    {
      "cell_type": "code",
      "source": [
        "# Conversion\n",
        "tf_dataset = tf_dataset.map(lambda x: x*109)\n",
        "for sales in tf_dataset.take(3):\n",
        "  print(sales.numpy())"
      ],
      "metadata": {
        "colab": {
          "base_uri": "https://localhost:8080/"
        },
        "id": "mB2e-gm9RF_1",
        "outputId": "ba40503f-1c0d-4566-bf51-2cf868b6e8ef"
      },
      "execution_count": 44,
      "outputs": [
        {
          "output_type": "stream",
          "name": "stdout",
          "text": [
            "2289\n",
            "2398\n",
            "3379\n"
          ]
        }
      ]
    },
    {
      "cell_type": "code",
      "source": [
        "# Data Shuffle\n",
        "tf_dataset = tf_dataset.shuffle(3)\n",
        "for sales in tf_dataset.take(3):\n",
        "  print(sales.numpy())"
      ],
      "metadata": {
        "colab": {
          "base_uri": "https://localhost:8080/"
        },
        "id": "_EdalsUNSWHj",
        "outputId": "05f106d5-b6aa-4ccf-e9c2-72e7fc60414f"
      },
      "execution_count": 45,
      "outputs": [
        {
          "output_type": "stream",
          "name": "stdout",
          "text": [
            "2398\n",
            "2289\n",
            "3706\n"
          ]
        }
      ]
    },
    {
      "cell_type": "code",
      "source": [
        "# Batching Dataset\n",
        "tf_dataset = tf_dataset.batch(2)\n",
        "for sales in tf_dataset:\n",
        "  print(sales.numpy())"
      ],
      "metadata": {
        "colab": {
          "base_uri": "https://localhost:8080/"
        },
        "id": "iXpNUbtUTY0x",
        "outputId": "43c36f9a-84ab-41ee-ea78-97fccc1f3942"
      },
      "execution_count": 46,
      "outputs": [
        {
          "output_type": "stream",
          "name": "stdout",
          "text": [
            "[2398 3379]\n",
            "[3706 2289]\n",
            "[3488 3379]\n"
          ]
        }
      ]
    },
    {
      "cell_type": "code",
      "source": [
        "tf_datasets = tf.data.Dataset.from_tensor_slices(daily_sales_numbers)\n",
        "tf_datasets = tf_datasets.filter(lambda x: tf.greater(x, 0)).map(lambda y: tf.multiply(y, 109)).shuffle(2).batch(2)\n",
        "tf_datasets\n",
        "\n",
        "for sales in tf_datasets:\n",
        "  print(sales.numpy())"
      ],
      "metadata": {
        "colab": {
          "base_uri": "https://localhost:8080/"
        },
        "id": "zbhyKwo7UAfK",
        "outputId": "1337dde0-591c-4646-a61d-ac3476e6a39e"
      },
      "execution_count": 47,
      "outputs": [
        {
          "output_type": "stream",
          "name": "stdout",
          "text": [
            "[2398 2289]\n",
            "[3379 3488]\n",
            "[3379 3706]\n"
          ]
        }
      ]
    },
    {
      "cell_type": "markdown",
      "source": [
        "# Review Datasets"
      ],
      "metadata": {
        "id": "MqE20mF4ahMo"
      }
    },
    {
      "cell_type": "code",
      "source": [
        "reviews_ds = tf.data.Dataset.list_files(\"reviews/*/*\", shuffle=False)\n",
        "reviews_ds"
      ],
      "metadata": {
        "colab": {
          "base_uri": "https://localhost:8080/"
        },
        "id": "lGa3Osjdacv_",
        "outputId": "b1f2268a-2382-412d-f1e9-9cd0942ef990"
      },
      "execution_count": 48,
      "outputs": [
        {
          "output_type": "execute_result",
          "data": {
            "text/plain": [
              "<_TensorSliceDataset element_spec=TensorSpec(shape=(), dtype=tf.string, name=None)>"
            ]
          },
          "metadata": {},
          "execution_count": 48
        }
      ]
    },
    {
      "cell_type": "code",
      "source": [
        "type(reviews_ds)"
      ],
      "metadata": {
        "colab": {
          "base_uri": "https://localhost:8080/",
          "height": 121
        },
        "id": "lfWXrq5uTskI",
        "outputId": "aff1ebac-9777-4e43-82cc-6c80c59e43b6"
      },
      "execution_count": 49,
      "outputs": [
        {
          "output_type": "execute_result",
          "data": {
            "text/plain": [
              "tensorflow.python.data.ops.from_tensor_slices_op._TensorSliceDataset"
            ],
            "text/html": [
              "<div style=\"max-width:800px; border: 1px solid var(--colab-border-color);\"><style>\n",
              "      pre.function-repr-contents {\n",
              "        overflow-x: auto;\n",
              "        padding: 8px 12px;\n",
              "        max-height: 500px;\n",
              "      }\n",
              "\n",
              "      pre.function-repr-contents.function-repr-contents-collapsed {\n",
              "        cursor: pointer;\n",
              "        max-height: 100px;\n",
              "      }\n",
              "    </style>\n",
              "    <pre style=\"white-space: initial; background:\n",
              "         var(--colab-secondary-surface-color); padding: 8px 12px;\n",
              "         border-bottom: 1px solid var(--colab-border-color);\"><b>tensorflow.python.data.ops.from_tensor_slices_op._TensorSliceDataset</b><br/>def __init__(element, is_files=False, name=None)</pre><pre class=\"function-repr-contents function-repr-contents-collapsed\" style=\"\"><a class=\"filepath\" style=\"display:none\" href=\"#\">/usr/local/lib/python3.10/dist-packages/tensorflow/python/data/ops/from_tensor_slices_op.py</a>A `Dataset` of slices from a dataset element.</pre>\n",
              "      <script>\n",
              "      if (google.colab.kernel.accessAllowed && google.colab.files && google.colab.files.view) {\n",
              "        for (const element of document.querySelectorAll('.filepath')) {\n",
              "          element.style.display = 'block'\n",
              "          element.onclick = (event) => {\n",
              "            event.preventDefault();\n",
              "            event.stopPropagation();\n",
              "            google.colab.files.view(element.textContent, 28);\n",
              "          };\n",
              "        }\n",
              "      }\n",
              "      for (const element of document.querySelectorAll('.function-repr-contents')) {\n",
              "        element.onclick = (event) => {\n",
              "          event.preventDefault();\n",
              "          event.stopPropagation();\n",
              "          element.classList.toggle('function-repr-contents-collapsed');\n",
              "        };\n",
              "      }\n",
              "      </script>\n",
              "      </div>"
            ]
          },
          "metadata": {},
          "execution_count": 49
        }
      ]
    },
    {
      "cell_type": "code",
      "source": [
        "for file in reviews_ds:\n",
        "  print(file.numpy())"
      ],
      "metadata": {
        "colab": {
          "base_uri": "https://localhost:8080/"
        },
        "id": "EL4cKSbyeW6H",
        "outputId": "54d6f26d-9596-4dbb-db7d-4d560cafdb11"
      },
      "execution_count": 50,
      "outputs": [
        {
          "output_type": "stream",
          "name": "stdout",
          "text": [
            "b'reviews/negative/.ipynb_checkpoints'\n",
            "b'reviews/negative/neg_1.txt'\n",
            "b'reviews/negative/neg_2.txt'\n",
            "b'reviews/negative/neg_3.txt'\n",
            "b'reviews/positive/.ipynb_checkpoints'\n",
            "b'reviews/positive/pos_1.txt'\n",
            "b'reviews/positive/pos_2.txt'\n",
            "b'reviews/positive/pos_3.txt'\n"
          ]
        }
      ]
    }
  ]
}