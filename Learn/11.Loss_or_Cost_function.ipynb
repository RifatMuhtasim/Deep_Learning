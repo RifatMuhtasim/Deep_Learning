{
  "nbformat": 4,
  "nbformat_minor": 0,
  "metadata": {
    "colab": {
      "provenance": [],
      "authorship_tag": "ABX9TyO5f3JLpOBDrjCDTXWT1mJ+",
      "include_colab_link": true
    },
    "kernelspec": {
      "name": "python3",
      "display_name": "Python 3"
    },
    "language_info": {
      "name": "python"
    }
  },
  "cells": [
    {
      "cell_type": "markdown",
      "metadata": {
        "id": "view-in-github",
        "colab_type": "text"
      },
      "source": [
        "<a href=\"https://colab.research.google.com/github/RifatMuhtasim/Deep_Learning/blob/main/Learn/11.Loss_or_Cost_function.ipynb\" target=\"_parent\"><img src=\"https://colab.research.google.com/assets/colab-badge.svg\" alt=\"Open In Colab\"/></a>"
      ]
    },
    {
      "cell_type": "code",
      "execution_count": 1,
      "metadata": {
        "id": "GdBQ8mVngVwt"
      },
      "outputs": [],
      "source": [
        "import numpy as np"
      ]
    },
    {
      "cell_type": "code",
      "source": [
        "y_pred = np.array([1,1,0,0,1])\n",
        "y_true = np.array([0.30,0.7,1,0,0.5])"
      ],
      "metadata": {
        "id": "eiXafLpigeU7"
      },
      "execution_count": 2,
      "outputs": []
    },
    {
      "cell_type": "markdown",
      "source": [
        "# Mean Squared Error\n",
        "The formula for the $MSE =  \\frac{1}{n} \\sum_{i=1}^n (y_i - \\hat{y_i})^2$"
      ],
      "metadata": {
        "id": "Zv58RKbkil2E"
      }
    },
    {
      "cell_type": "code",
      "source": [
        "def mse(y_true, y_pred):\n",
        "  total = 0\n",
        "  for i in range(len(y_true)):\n",
        "    total += pow((y_true[i] - y_pred[i]), 2)\n",
        "  result = (1/len(y_true)) * total\n",
        "  return result"
      ],
      "metadata": {
        "id": "R_oXy6FGgoSd"
      },
      "execution_count": 3,
      "outputs": []
    },
    {
      "cell_type": "code",
      "source": [
        "print(\"Mean Squared Error:\", mse( y_true, y_pred))"
      ],
      "metadata": {
        "colab": {
          "base_uri": "https://localhost:8080/"
        },
        "id": "c8zgkfnRhFbi",
        "outputId": "26e143b8-b038-493d-f889-41fd118d40c6"
      },
      "execution_count": 4,
      "outputs": [
        {
          "output_type": "stream",
          "name": "stdout",
          "text": [
            "Mean Squared Error: 0.36600000000000005\n"
          ]
        }
      ]
    },
    {
      "cell_type": "markdown",
      "source": [
        "**With use of Numpy**"
      ],
      "metadata": {
        "id": "oCF0Jy51itxl"
      }
    },
    {
      "cell_type": "code",
      "source": [
        "np.mean(np.square(y_true - y_pred))"
      ],
      "metadata": {
        "colab": {
          "base_uri": "https://localhost:8080/"
        },
        "id": "GCSctS0ihH3E",
        "outputId": "b808ad74-561f-4b3f-f355-f63ab4610f98"
      },
      "execution_count": 5,
      "outputs": [
        {
          "output_type": "execute_result",
          "data": {
            "text/plain": [
              "0.366"
            ]
          },
          "metadata": {},
          "execution_count": 5
        }
      ]
    },
    {
      "cell_type": "markdown",
      "source": [
        "### Mean Absolute Error\n",
        "The formula $mae = \\frac{1}{n} \\sum_{i=1}^n abs(y_i - \\hat{y_i})$"
      ],
      "metadata": {
        "id": "_5QvMXzmjLGG"
      }
    },
    {
      "cell_type": "markdown",
      "source": [
        "### Log Loss or Binary Cross Entrophy\n",
        "The formula $bce = - \\frac{1}{n} \\sum_{i=0}^{n} y_i log(\\hat{y_i}) + (1-y_i)* log(1-\\hat{y_i})$"
      ],
      "metadata": {
        "id": "rQ3hSZMwjRz2"
      }
    },
    {
      "cell_type": "code",
      "source": [
        "def log_loss(y_true, y_pred):\n",
        "  epsilon = 1e-15\n",
        "  y_pred_new = [max(i, epsilon) for i in y_pred]\n",
        "  y_pred_new = [min(i,1-epsilon) for i in y_pred_new]\n",
        "  y_pred_new = np.array(y_pred_new)\n",
        "  print(y_pred_new)\n",
        "\n",
        "  bce = -np.mean(y_true*np.log(y_pred_new)+(1-y_true)*np.log(1-y_pred_new))\n",
        "  return bce"
      ],
      "metadata": {
        "id": "IugHAGvwjh4n"
      },
      "execution_count": 6,
      "outputs": []
    },
    {
      "cell_type": "code",
      "source": [
        "print(log_loss(y_true, y_pred))"
      ],
      "metadata": {
        "colab": {
          "base_uri": "https://localhost:8080/"
        },
        "id": "xRRvvuY0lCyu",
        "outputId": "cc1f49dc-6a61-472b-ba4a-64b3184e262c"
      },
      "execution_count": 7,
      "outputs": [
        {
          "output_type": "stream",
          "name": "stdout",
          "text": [
            "[1.e+00 1.e+00 1.e-15 1.e-15 1.e+00]\n",
            "17.2696280766844\n"
          ]
        }
      ]
    }
  ]
}